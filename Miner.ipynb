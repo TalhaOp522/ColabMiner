{
  "nbformat": 4,
  "nbformat_minor": 0,
  "metadata": {
    "colab": {
      "name": "Miner",
      "private_outputs": true,
      "provenance": [],
      "collapsed_sections": []
    },
    "kernelspec": {
      "name": "python3",
      "display_name": "Python 3"
    },
    "language_info": {
      "name": "python"
    },
    "accelerator": "GPU"
  },
  "cells": [
    {
      "cell_type": "code",
      "execution_count": null,
      "metadata": {
        "id": "vEsa0sNoSqeF",
        "cellView": "form"
      },
      "outputs": [],
      "source": [
        "#@markdown **GPU CHECK**\n",
        "!nvidia-smi -L\n",
        "print(\"DONE\")"
      ]
    },
    {
      "cell_type": "code",
      "source": [
        "#@markdown **RDP INSTALL**\n",
        "!pip install colab_ssh\n",
        "from colab_ssh import launch_ssh\n",
        "launch_ssh('28sqIcEBORq4GtoIfNuJbJKgayP_S99cPWeMxnLv3nRJTcrE','1')\n",
        "print(\"DONE\")"
      ],
      "metadata": {
        "cellView": "form",
        "id": "FBJ94Z8qUG3w"
      },
      "execution_count": null,
      "outputs": []
    },
    {
      "cell_type": "code",
      "source": [
        "#@markdown **SLEEP** `3 MIN`\n",
        "alive = True\n",
        "! sleep 180"
        "print(\"DONE\")"
      ],
      "metadata": {
        "cellView": "form",
        "id": "xdtL6x8jbxPv"
      },
      "execution_count": null,
      "outputs": []
    }
  ]
}